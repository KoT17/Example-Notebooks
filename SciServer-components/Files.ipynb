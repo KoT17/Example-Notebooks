{
 "cells": [
  {
   "cell_type": "markdown",
   "metadata": {},
   "source": [
    "# Example notebook: File management\n",
    "\n",
    "You can manage your SciServer files through SciServer Compute, just as you can through the SciServer Dashboard.\n",
    "\n",
    "SciServer Compute can talk to other components of SciServer through a series of <em>modules</em>, one for each component. This example notebook shows how to use the <strong><code>SciServer.Files</code></strong> module to access SciServer's file system from within your Python scripts. Use the examples in this notebook to get started.\n",
    "\n",
    "Before using this example notebook, make sure you have copied it out of the shared <strong><code>Getting Started</code></strong> volume and into one of your personal volumes. You can do this by running the <strong><code>Copy Example Notebooks.ipynb</code></strong> script in the same directory.\n",
    "\n",
    "To run the example Python commands in this notebook, click in any of the Code cells below (the ones with the gray backgrounds). Click the play button at the top of the window (just below the menubar) to run the script, or press Shift-Enter. When you run a cell, its output of will appear directly below the cell."
   ]
  },
  {
   "cell_type": "markdown",
   "metadata": {},
   "source": [
    "## Import modules\n",
    "\n",
    "Like any Python modules, the SciServer modules must be imported before being used. \n",
    "\n",
    "The next code block first imports the SciServer modules you will need for this example notebook, then imports some other required modules.\n",
    "\n",
    "Edit the value of the variable <strong><code>Authentication_loginName</code></strong> to your username, so that the script will look in the right place for your files. \n",
    "\n",
    "Comments in the code block explain what each module does. To learn how to import other modules, see the Python 3.5 import documentation (https://docs.python.org/3.5/reference/import.html), or the documentation of the module(s) you are trying to import."
   ]
  },
  {
   "cell_type": "code",
   "execution_count": null,
   "metadata": {},
   "outputs": [],
   "source": [
    "import SciServer\n",
    "from SciServer import Files # manage your file system space from SciServer Compute    #Authentication, Files\n",
    "print('Imported SciServer modules')\n",
    "\n",
    "from pprint import pprint # print human-readable output\n",
    "print('Imported other needed modules')\n",
    "\n",
    "print('\\n')\n",
    "\n",
    "# Enter your login name here to ensure that the script looks in your file system space\n",
    "Authentication_loginName = 'PleaseEnterYourNameHere'\n",
    "\n",
    "if (Authentication_loginName == 'PleaseEnterYourNameHere'):    \n",
    "    raise Exception('Please enter your login name as the value for Authentication_loginName')\n",
    "else:        \n",
    "    print('Set value for Authentication_loginName: {0:}'.format(Authentication_loginName))\n"
   ]
  },
  {
   "cell_type": "markdown",
   "metadata": {},
   "source": [
    "## Get help\n",
    "\n",
    "At any point after the modules are imported, you can type \"help (<em>name of module</em>)\" to read the documentation for that module. This is true for all SciServer modules and most other modules as well. Try it below."
   ]
  },
  {
   "cell_type": "code",
   "execution_count": null,
   "metadata": {},
   "outputs": [],
   "source": [
    "help(Files)"
   ]
  },
  {
   "cell_type": "markdown",
   "metadata": {},
   "source": [
    "# File Services\n",
    "\n",
    "The basic unit of the SciServer file system is the File Service. Most SciServer users currently have access to only one file service, called FileServiceJHU."
   ]
  },
  {
   "cell_type": "markdown",
   "metadata": {},
   "source": [
    "## Show the file services that are available to you\n",
    "\n",
    "The code cell below uses your login name to find the file services that are available to you.\n",
    "\n",
    "Once you run this code cell, its output will display the name, description, and API endpoint of each file service you can access. Below this information, the output shows the full contents of each FileService object, using pprint to format its dictionary."
   ]
  },
  {
   "cell_type": "code",
   "execution_count": null,
   "metadata": {},
   "outputs": [],
   "source": [
    "# get available FileServices -- returns a list of dictionaries, one for each avialable file service\n",
    "#   the for loop iterates through the list and prints information about each dictionary object\n",
    "\n",
    "fileServicesList = Files.getFileServices()\n",
    "for thisFileService in fileServicesList:\n",
    "    print('name',':',thisFileService['name'])\n",
    "    print('description',':',thisFileService['description'])\n",
    "    print('apiEndpoint',':',thisFileService['apiEndpoint'])\n",
    "    print('\\n')\n",
    "    print('The full dictionary:')\n",
    "    pprint(thisFileService)"
   ]
  },
  {
   "cell_type": "markdown",
   "metadata": {},
   "source": [
    "## Get file service information from a name\n",
    "\n",
    "If you know the name of a file service, you can use <code>File.getFileServiceFromName(<em>name</em>)</code> command to get full information about that file service. Most SciServer users have access to only one file service, named <em>FileServiceJHU</em>."
   ]
  },
  {
   "cell_type": "code",
   "execution_count": null,
   "metadata": {
    "scrolled": true
   },
   "outputs": [],
   "source": [
    "# get FileService from Name\n",
    "fileServiceNames = Files.getFileServicesNames()\n",
    "print('Names of available file services:')\n",
    "pprint(fileServiceNames)\n",
    "\n",
    "print('\\n')\n",
    "Files_FileServiceName = \"FileServiceJHU\"\n",
    "print('File Service information for {0:}:'.format(Files_FileServiceName))\n",
    "fileService = Files.getFileServiceFromName(Files_FileServiceName)\n",
    "pprint(fileService)"
   ]
  },
  {
   "cell_type": "markdown",
   "metadata": {},
   "source": [
    "## Get the API endpoint for a file service\n",
    "\n",
    "Similarly, if you know the name of a file service, you can use the <code>File.__getFileServiceAPIUrl(<em>name</em>)</code> command to get its API endpoint. Most SciServer users have access to only one file service, named <em>FileServiceJHU</em>.\n",
    "\n",
    "Don't forget that the command syntax requires two underscores before the letters."
   ]
  },
  {
   "cell_type": "code",
   "execution_count": null,
   "metadata": {},
   "outputs": [],
   "source": [
    "# get the API endpoint URL of a FileService\n",
    "fileServiceAPIUrl = Files.__getFileServiceAPIUrl(fileService)\n",
    "print(fileServiceAPIUrl)"
   ]
  },
  {
   "cell_type": "markdown",
   "metadata": {},
   "source": [
    "## Show root volumes\n",
    "\n",
    "Root volumes are the top level of the file system for each SciServer File Service. Most users will see <em>FileServiceJHU</em>, which has two root volumes:\n",
    "\n",
    "<ul>\n",
    "    <li><strong>Storage</strong>: Regularly backed up, but each user is limited to 10 GB.</li>\n",
    "    <li><strong>Temporary</strong>: Unlimited but transient. See the <a href=\"http://www.sciserver.org/support/policies/\">SciServer Compute Data Storage Policy</a> for more information.</li>\n",
    "</ul>\n",
    "\n",
    "Like everything in SciServer Compute, he names <em>Storage</em> and <em>Temporary</em> are case-sensitive."
   ]
  },
  {
   "cell_type": "code",
   "execution_count": null,
   "metadata": {},
   "outputs": [],
   "source": [
    "rootVolumes = Files.getRootVolumesInfo(fileService)\n",
    "pprint(rootVolumes)"
   ]
  },
  {
   "cell_type": "markdown",
   "metadata": {},
   "source": [
    "# User volumes, directories, and files\n",
    "\n",
    "User volumes are shareable units of file space that you can create. They are SciServer equivalent of external drives, which can be mounted through Compute for yourself and others. User volumes can be created in either <em>Storage</em> or <em>Temporary</em>, and the appropriate storage policy applies to each user volume.\n",
    "\n",
    "The code cell below prints information for each of the user volumes that you have access to."
   ]
  },
  {
   "cell_type": "code",
   "execution_count": null,
   "metadata": {},
   "outputs": [],
   "source": [
    "userVolumes = Files.getUserVolumesInfo(fileService)\n",
    "pprint(userVolumes)"
   ]
  },
  {
   "cell_type": "markdown",
   "metadata": {},
   "source": [
    "## Create a new user volume\n",
    "\n",
    "The code cell below creates a new user volume in your SciServer file system space. Use the variable <code>Files_RootVolumeName1</code> to choose whether to store the file in Storage or Temporary, and name your new user volume with the variable <code>Files_VolumeName1</code>."
   ]
  },
  {
   "cell_type": "code",
   "execution_count": null,
   "metadata": {},
   "outputs": [],
   "source": [
    "Files_FileServiceName = \"FileServiceJHU\"\n",
    "Files_RootVolumeName1 = 'Storage'\n",
    "Files_VolumeName1 = \"created_through_example_notebook\"\n",
    "\n",
    "fileService = Files.getFileServiceFromName(Files_FileServiceName)\n",
    "\n",
    "Files.createUserVolume(fileService,\"/\".join([Files_RootVolumeName1,Authentication_loginName,Files_VolumeName1]))\n",
    "\n",
    "print('Created new user volume: {0:}!'.format(Files_VolumeName1))"
   ]
  },
  {
   "cell_type": "markdown",
   "metadata": {},
   "source": [
    "## Share one of your user volumes with another user\n",
    "\n",
    "Once you create a user volume, you can share it with any other user on SciServer. The code cell below will share the new user volume you just created. If you know someone on SciServer you would like to share it with, enter their name for the variable <code>shareWithUser</code>."
   ]
  },
  {
   "cell_type": "code",
   "execution_count": null,
   "metadata": {},
   "outputs": [],
   "source": [
    "Files_FileServiceName = \"FileServiceJHU\"\n",
    "Files_RootVolumeNameToShareFrom = 'Storage'\n",
    "Files_VolumeNameToShare = \"created_through_example_notebook\"\n",
    "\n",
    "fileService = Files.getFileServiceFromName(Files_FileServiceName)\n",
    "\n",
    "shareWithUser = 'PleaseEnterSomeNameHere'\n",
    "\n",
    "try:\n",
    "    Files.shareUserVolume(fileService, \n",
    "    \"/\".join([Files_RootVolumeNameToShareFrom,Authentication_loginName,Files_VolumeNameToShare]), \n",
    "        sharedWith=shareWithUser, type=\"USER\",allowedActions=[\"read\"])\n",
    "except:\n",
    "    raise Exception('Please enter a valid login name for another SciServer user')"
   ]
  },
  {
   "cell_type": "markdown",
   "metadata": {},
   "source": [
    "## Create a new directory\n",
    "\n",
    "The code cell below creates a new directory within your <em>persistent</em> volume."
   ]
  },
  {
   "cell_type": "code",
   "execution_count": null,
   "metadata": {},
   "outputs": [],
   "source": [
    "# create a directory in the persistent volume\n",
    "Files_FileServiceName = \"FileServiceJHU\"\n",
    "Files_RootVolumeName2 = \"Storage\"\n",
    "Files_VolumeName2 = \"persistent\"\n",
    "Files_NewDirectoryName2 = \"directory_created_through_example_notebook\"\n",
    "\n",
    "fileService = Files.getFileServiceFromName(Files_FileServiceName)\n",
    "Files.createDir(fileService, \n",
    "    \"/\".join([Files_RootVolumeName2,Authentication_loginName,Files_VolumeName2,Files_NewDirectoryName2]));\n",
    "\n",
    "print('Created new user directory {0:} inside {1:} volume.'.format(Files_NewDirectoryName2, Files_VolumeName2))"
   ]
  },
  {
   "cell_type": "markdown",
   "metadata": {},
   "source": [
    "## List contents of a directory\n",
    "\n",
    "The code cell below creates a new directory within your <em>persistent</em> volume."
   ]
  },
  {
   "cell_type": "code",
   "execution_count": null,
   "metadata": {},
   "outputs": [],
   "source": [
    "# List content of remote directory\n",
    "Files_FileServiceName = \"FileServiceJHU\"\n",
    "Files_RootVolumeName3 = \"Storage\"\n",
    "Files_VolumeName3 = \"persistent\"\n",
    "Files_DirectoryName3 = \"\"\n",
    "\n",
    "fileService = Files.getFileServiceFromName(Files_FileServiceName)\n",
    "\n",
    "dirList = Files.dirList(fileService, \n",
    "    \"/\".join([Files_RootVolumeName3,Authentication_loginName,Files_VolumeName3,Files_DirectoryName3]),\n",
    "    level=4)\n",
    "pprint(dirList)"
   ]
  },
  {
   "cell_type": "markdown",
   "metadata": {},
   "source": [
    "## Upload a file\n",
    "\n",
    "The code cell below creates a simple text file, then uploads it into the folder you just created in your <em>persistent</em> volume. If you prefer to upload your own file, change the value of <code>Files_LocalFileName</code>."
   ]
  },
  {
   "cell_type": "code",
   "execution_count": null,
   "metadata": {},
   "outputs": [],
   "source": [
    "# upload a text string into a file in the remote directory\n",
    "Files_FileServiceName = \"FileServiceJHU\"\n",
    "Files_RootVolumeName4 = \"Storage\"\n",
    "Files_VolumeName4 = \"persistent\"\n",
    "Files_DirectoryName4 = \"directory_created_through_example_notebook\"\n",
    "\n",
    "# This file gets created below, or replace with your own filename\n",
    "Files_LocalFileName = \"sharknado.csv\"\n",
    "\n",
    "# Create this simple file to upload\n",
    "Files_LocalFileContent = \"Year, Sharknado movies shown on U.S. television\\n\"\n",
    "Files_LocalFileContent += \"2012, 0\\n\"\n",
    "Files_LocalFileContent += \"2013, 1\\n\"\n",
    "Files_LocalFileContent += \"2014, 1\\n\"\n",
    "Files_LocalFileContent += \"2015, 1\\n\"\n",
    "Files_LocalFileContent += \"2016, 1\\n\"\n",
    "Files_LocalFileContent += \"2017, 1\\n\"\n",
    "\n",
    "fileService = Files.getFileServiceFromName(Files_FileServiceName)\n",
    "\n",
    "Files.upload(fileService, \n",
    "    \"/\".join([Files_RootVolumeName4,Authentication_loginName,Files_VolumeName4,Files_DirectoryName4,Files_LocalFileName]), \n",
    "             data=Files_LocalFileContent)\n",
    "\n",
    "print('Uploaded file {0:} to {1:} volume in directory {2:}.'.format(Files_LocalFileName, Files_VolumeName4, Files_DirectoryName4))"
   ]
  },
  {
   "cell_type": "markdown",
   "metadata": {},
   "source": [
    "## List contents of a directory"
   ]
  },
  {
   "cell_type": "code",
   "execution_count": null,
   "metadata": {},
   "outputs": [],
   "source": [
    "# List content of remote directory\n",
    "Files_FileServiceName = \"FileServiceJHU\"\n",
    "Files_RootVolumeName3 = \"Storage\"\n",
    "Files_VolumeName3 = \"persistent\"\n",
    "Files_DirectoryName3 = \"directory_created_through_example_notebook\"\n",
    "\n",
    "fileService = Files.getFileServiceFromName(Files_FileServiceName)\n",
    "\n",
    "dirList = Files.dirList(fileService, \n",
    "    \"/\".join([Files_RootVolumeName3,Authentication_loginName,Files_VolumeName3,Files_DirectoryName3]),\n",
    "    level=4)\n",
    "pprint(dirList)"
   ]
  },
  {
   "cell_type": "markdown",
   "metadata": {},
   "source": [
    "## Copy a file from one place to another"
   ]
  },
  {
   "cell_type": "code",
   "execution_count": null,
   "metadata": {},
   "outputs": [],
   "source": [
    "# upload a text string into a file in the remote directory\n",
    "Files_FileServiceName = \"FileServiceJHU\"\n",
    "\n",
    "Files_RootVolumeNameNow = \"Storage\"\n",
    "Files_VolumeNameNow = \"persistent\"\n",
    "Files_DirectoryNameNow = \"\"\n",
    "\n",
    "Files_RootVolumeMoveTo = \"Storage\"\n",
    "Files_VolumeNameMoveTo = \"created_through_example_notebook\"\n",
    "Files_DirectoryNameMoveTo = \"\"\n",
    "\n",
    "Files_RemoteFileName = \"sharknado.csv\"\n",
    "\n",
    "fileService = Files.getFileServiceFromName(Files_FileServiceName)\n",
    "\n",
    "\n",
    "# copy remote file into remote directory\n",
    "\n",
    "Files.move(fileService, \n",
    "\"/\".join([Files_RootVolumeNameNow,Authentication_loginName,Files_VolumeNameNow,Files_DirectoryNameNow,Files_RemoteFileName]), \n",
    "           fileService, \n",
    "\"/\".join([Files_RootVolumeMoveTo,Authentication_loginName,Files_VolumeNameMoveTo,Files_DirectoryNameMoveTo,Files_RemoteFileName])\n",
    ")\n",
    "\n",
    "print('File copied')"
   ]
  },
  {
   "cell_type": "markdown",
   "metadata": {},
   "source": [
    "## Download a file from SciServer\n",
    "\n",
    "The downloaded file will appear in the directory you are currently in."
   ]
  },
  {
   "cell_type": "code",
   "execution_count": null,
   "metadata": {},
   "outputs": [],
   "source": [
    "# download a remote text file into a local directory\n",
    "Files_FileServiceName = \"FileServiceJHU\"\n",
    "\n",
    "Files_RootVolumeToDownloadFrom = \"Storage\"\n",
    "Files_VolumeNameToDownloadFrom = \"created_through_example_notebook\"\n",
    "Files_DirectoryNameToDownloadFrom = \"\"\n",
    "Files_RemoteFileName = \"sharknado.csv\"\n",
    "Files_LocalFileName = \"sharknado_downloaded.csv\"\n",
    "\n",
    "fileService = Files.getFileServiceFromName(Files_FileServiceName)\n",
    "\n",
    "Files.download(fileService, \n",
    "    \"/\".join([Files_RootVolumeToDownloadFrom,Authentication_loginName,Files_VolumeNameToDownloadFrom,Files_DirectoryNameToDownloadFrom,Files_RemoteFileName]) \n",
    "    ,localFilePath=Files_LocalFileName)\n",
    "\n",
    "print('Downloaded file, saved as {0:}'.format(Files_LocalFileName))"
   ]
  },
  {
   "cell_type": "markdown",
   "metadata": {},
   "source": [
    "## Delete a file from SciServer file system"
   ]
  },
  {
   "cell_type": "code",
   "execution_count": null,
   "metadata": {},
   "outputs": [],
   "source": [
    "# Delete remote file\n",
    "Files_FileServiceName = \"FileServiceJHU\"\n",
    "\n",
    "Files_RootVolumeToDeleteIn = \"Storage\"\n",
    "Files_VolumeNameToDeleteIn = \"created_through_example_notebook\"\n",
    "Files_DirectoryNameToDeleteIn = \"\"\n",
    "Files_RemoteFileName = \"sharknado.csv\"\n",
    "\n",
    "fileService = Files.getFileServiceFromName(Files_FileServiceName)\n",
    "\n",
    "Files.delete(fileService, \n",
    "\"/\".join([Files_RootVolumeToDeleteIn,Authentication_loginName,Files_VolumeNameToDeleteIn,Files_DirectoryNameToDeleteIn,Files_RemoteFileName]))\n",
    "\n",
    "print('Deleted file {0:} from volume {1:}'.format(Files_RemoteFileName, Files_VolumeNameToDeleteIn))"
   ]
  },
  {
   "cell_type": "markdown",
   "metadata": {},
   "source": [
    "## Delete a directory"
   ]
  },
  {
   "cell_type": "code",
   "execution_count": null,
   "metadata": {},
   "outputs": [],
   "source": [
    "# delete folders\n",
    "# Delete remote file\n",
    "Files_FileServiceName = \"FileServiceJHU\"\n",
    "\n",
    "Files_RootVolumeToDeleteIn = \"Storage\"\n",
    "Files_VolumeNameToDeleteIn = \"persistent\"\n",
    "Files_DirectoryNameToDelete = \"directory_created_through_example_notebook\"\n",
    "\n",
    "fileService = Files.getFileServiceFromName(Files_FileServiceName)\n",
    "\n",
    "\n",
    "Files.delete(fileService, \n",
    "    \"/\".join([Files_RootVolumeToDeleteIn,Authentication_loginName,Files_VolumeNameToDeleteIn,Files_DirectoryNameToDelete]))\n",
    "\n",
    "print('Deleted folder {0:} from volume {1:}'.format(Files_DirectoryNameToDelete, Files_VolumeNameToDeleteIn))"
   ]
  },
  {
   "cell_type": "markdown",
   "metadata": {},
   "source": [
    "## Delete a user volume"
   ]
  },
  {
   "cell_type": "code",
   "execution_count": null,
   "metadata": {},
   "outputs": [],
   "source": [
    "# delete user volumes\n",
    "Files_FileServiceName = \"FileServiceJHU\"\n",
    "\n",
    "Files_RootVolumeToDeleteIn = \"Storage\"\n",
    "Files_VolumeNameToDelete = \"created_through_example_notebook\"\n",
    "\n",
    "fileService = Files.getFileServiceFromName(Files_FileServiceName)\n",
    "\n",
    "\n",
    "Files.deleteUserVolume(fileService, \n",
    "    \"/\".join([Files_RootVolumeToDeleteIn, Authentication_loginName, Files_VolumeNameToDelete]))\n",
    "\n",
    "print('Deleted volume {0:}'.format(Files_VolumeNameToDelete))"
   ]
  },
  {
   "cell_type": "code",
   "execution_count": null,
   "metadata": {},
   "outputs": [],
   "source": []
  }
 ],
 "metadata": {
  "kernelspec": {
   "display_name": "Python 3",
   "language": "python",
   "name": "python3"
  },
  "language_info": {
   "codemirror_mode": {
    "name": "ipython",
    "version": 3
   },
   "file_extension": ".py",
   "mimetype": "text/x-python",
   "name": "python",
   "nbconvert_exporter": "python",
   "pygments_lexer": "ipython3",
   "version": "3.6.6"
  }
 },
 "nbformat": 4,
 "nbformat_minor": 2
}
