{
 "cells": [
  {
   "cell_type": "markdown",
   "metadata": {},
   "source": [
    "# Example notebook: Logging in and authentication\n",
    "\n",
    "SciServer Compute can talk to other components of SciServer through a series of <em>modules</em>, one for each component. This example notebook shows how to use the <strong><code>SciServer.Authentication</code></strong> module to log in to our systems.\n",
    "\n",
    "To use any SciServer resource, you must be logged in with a free SciServer account. In Compute, you are automatically logged in when you create a container, but if you leave a notebook open for a long time, you may need to log in again. In addition, if you want to use SciServer services from your own scripting environment, you must log in manually from within your environment.\n",
    "\n",
    "SciServer authentication works by using a <em>token</em> system. This notebook shows you how to get and manage your authentication tokens."
   ]
  },
  {
   "cell_type": "markdown",
   "metadata": {},
   "source": [
    "## Using this notebook\n",
    "\n",
    "You are welcome (encouraged!) to copy these examples into another folder and modify them to meet your needs. You can use them as a starting point to create your own scripts. Please do not edit this notebook directly, because your edits may be overwritten if changes to the SciServer modules require changes to these example notebooks.\n",
    "\n",
    "To run the example Python scripts in this notebook, click in any of the Code cells below (the ones with the gray backgrounds). Click the play button at the top of the window (just below the menubar) to run the script, or press Shift-Enter. When you run a cell, its output of will appear directly below the cell."
   ]
  },
  {
   "cell_type": "code",
   "execution_count": null,
   "metadata": {
    "scrolled": true
   },
   "outputs": [],
   "source": [
    "import SciServer\n",
    "from SciServer import Authentication\n",
    "print('Imported SciServer modules')\n",
    "\n",
    "# These are the credentials you will use later to manually log in to SciServer.\n",
    "### The default values are for a test account we created specifically for this notebook.\n",
    "#### The example will be more useful if you replace with your own username/password, but if you do, \n",
    "####   please be careful to keep this notebook private.\n",
    "Authentication_loginName = 'testauth'\n",
    "Authentication_loginPassword = 'test12345'\n",
    "print('Set login name and password')"
   ]
  },
  {
   "cell_type": "markdown",
   "metadata": {},
   "source": [
    "## Get help\n",
    "\n",
    "At any point after the modules are imported, you can type \"help (<em>name of module</em>)\" to read the documentation for that module. This is true for all SciServer modules and most other modules as well. Try it below."
   ]
  },
  {
   "cell_type": "code",
   "execution_count": null,
   "metadata": {},
   "outputs": [],
   "source": [
    "help(SciServer)\n",
    "help(Authentication)"
   ]
  },
  {
   "cell_type": "markdown",
   "metadata": {},
   "source": [
    "## Log in automatically, get login token"
   ]
  },
  {
   "cell_type": "code",
   "execution_count": null,
   "metadata": {},
   "outputs": [],
   "source": [
    "#logging in and getting current token from different ways\n",
    "\n",
    "autotoken = \"\"\n",
    "autotoken = Authentication.getToken()\n",
    "autotokenvalue = Authentication.token.value\n",
    "\n",
    "if (autotoken):\n",
    "    print(\"Automatic login successful!\")\n",
    "    print(\"Login token (via automatic login): {0:}\".format(autotoken))\n",
    "else:\n",
    "    print(\"ERROR: Automatic login failed. Please check your commands and try again.\")\n",
    "    print(\"For help, type:\")\n",
    "    print(\"help(Authentication)\")\n"
   ]
  },
  {
   "cell_type": "markdown",
   "metadata": {},
   "source": [
    "## Log in manually, get login token"
   ]
  },
  {
   "cell_type": "code",
   "execution_count": null,
   "metadata": {},
   "outputs": [],
   "source": [
    "# Define login Name and password at the top of this notebook before running this Cell\n",
    "\n",
    "\n",
    "manualtoken = \"\"\n",
    "manualtoken = Authentication.login(Authentication_loginName, Authentication_loginPassword)\n",
    "manualtokenvalue = Authentication.token.value\n",
    "\n",
    "if (manualtoken):\n",
    "    print(\"Manual login (providing login and password in notebook) successful!\")\n",
    "    print(\"Login token (via manual login): {0:}\".format(autotoken))\n",
    "else:\n",
    "    print(\"ERROR: Manual login failed. Please check your commands and try again.\")\n",
    "    print(\"For help, type:\")\n",
    "    print(\"help(Authentication)\")\n"
   ]
  },
  {
   "cell_type": "markdown",
   "metadata": {},
   "source": [
    "## Get info for current user\n",
    "\n",
    "Information about the currently logged-in user is stored in a <strong><code>user</code></strong> object."
   ]
  },
  {
   "cell_type": "code",
   "execution_count": null,
   "metadata": {},
   "outputs": [],
   "source": [
    "#getting curent user info\n",
    "\n",
    "user = Authentication.getKeystoneUserWithToken(manualtoken)\n",
    "print(\"userName: {0:}\".format(user.userName))\n",
    "print(\"id: {0:}\".format(user.id))\n",
    "\n",
    "iden = Authentication.identArgIdentifier()\n",
    "print(\"ident: {0:}\".format(iden))\n"
   ]
  },
  {
   "cell_type": "markdown",
   "metadata": {},
   "source": [
    "## Reset current token to a new value"
   ]
  },
  {
   "cell_type": "code",
   "execution_count": null,
   "metadata": {},
   "outputs": [],
   "source": [
    "#reseting the current token to another value:\n",
    "Authentication_newloginName = 'testauth2'\n",
    "Authentication_newloginPassword = 'test123456'\n",
    "newtoken = \"\"\n",
    "\n",
    "oldtoken = Authentication.getToken()\n",
    "\n",
    "Authentication.login(Authentication_newloginName, Authentication_newloginPassword)\n",
    "newtoken = Authentication.getToken()\n",
    "\n",
    "Authentication.setToken(newtoken)\n",
    "\n",
    "if (newtoken):   \n",
    "    print(\"Token reset (providing new login and password in notebook) successful!\")\n",
    "    print(\"Login token (via manual login): {0:}\".format(newtoken))\n",
    "else:\n",
    "    print(\"ERROR: Token reset failed. Please check your commands and try again.\")\n",
    "    print(\"For help, type:\")\n",
    "    print(\"help(Authentication)\")\n",
    "\n"
   ]
  },
  {
   "cell_type": "code",
   "execution_count": null,
   "metadata": {},
   "outputs": [],
   "source": []
  }
 ],
 "metadata": {
  "kernelspec": {
   "display_name": "Python 3",
   "language": "python",
   "name": "python3"
  },
  "language_info": {
   "codemirror_mode": {
    "name": "ipython",
    "version": 3
   },
   "file_extension": ".py",
   "mimetype": "text/x-python",
   "name": "python",
   "nbconvert_exporter": "python",
   "pygments_lexer": "ipython3",
   "version": "3.6.6"
  }
 },
 "nbformat": 4,
 "nbformat_minor": 1
}
