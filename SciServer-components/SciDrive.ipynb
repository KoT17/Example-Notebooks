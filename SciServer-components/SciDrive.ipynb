{
 "cells": [
  {
   "cell_type": "markdown",
   "metadata": {},
   "source": [
    "# Example notebook: Manage file-based data with SciDrive\n",
    "\n",
    "SciServer Compute can talk to other components of SciServer through a series of <em>modules</em>, one for each component. This example notebook shows how to use the <strong><code>SciServer.SciDrive</code></strong> module to access and manage any data that you have stored in your SciDrive space at <a href=\"http://www.scidrive.org\" target=\"_blank\">www.scidrive.org</a> (link opens in a new window). If you do not yet have any data in your SciDrive and you'd like to try this example, just find or create a simple CSV (comma-separated value) file and drag it into SciDrive to upload.\n",
    "\n",
    "You are welcome (encouraged!) to copy these examples into another folder and modify them to meet your needs. You can use them as a starting point to create your own scripts. Please do not edit this notebook directly, because your edits may be overwritten if changes to the SciServer modules require changes to these example notebooks.\n",
    "\n",
    "To run the example Python scripts in this notebook, click in any of the Code cells below (the ones with the gray backgrounds). Click the play button at the top of the window (just below the menubar) to run the commands in that Code cell, or press Shift-Enter. The output of each cell's script will appear directly below the cell."
   ]
  },
  {
   "cell_type": "markdown",
   "metadata": {},
   "source": [
    "## Import modules\n",
    "\n",
    "Like any Python modules, the SciServer modules must be imported before being used. The next code block first imports the SciServer modules you will need for this example notebook, then imports some other required modules. Comments in the code block explain what each module does. To learn how to import other modules, see the Python 3.5 import documentation (https://docs.python.org/3.5/reference/import.html), or the documentation of the module(s) you are trying to import."
   ]
  },
  {
   "cell_type": "code",
   "execution_count": null,
   "metadata": {},
   "outputs": [],
   "source": [
    "import SciServer\n",
    "from SciServer import SciDrive\n",
    "print('Imported SciServer modules')\n",
    "\n",
    "from pprint import pprint   # Allows formatted printing for easier reading of outputs\n",
    "import os                   # Work with files in your container using *nix-like file commands\n",
    "print('Imported other needed modules')"
   ]
  },
  {
   "cell_type": "markdown",
   "metadata": {},
   "source": [
    "## Get help\n",
    "\n",
    "At any point after the modules are imported, you can type \"help (<em>name of module</em>)\" to read the documentation for that module. This is true for all SciServer modules and most other modules as well. Try it below."
   ]
  },
  {
   "cell_type": "code",
   "execution_count": null,
   "metadata": {},
   "outputs": [],
   "source": [
    "#help(SciDrive)\n",
    "#help(SciServer)"
   ]
  },
  {
   "cell_type": "markdown",
   "metadata": {},
   "source": [
    "## Manage directories in your SciDrive\n",
    "\n",
    "Now that you have imported the SciDrive module, you can write commands to manage files in your SciDrive directly through Compute. The first task is to list what files you have.\n",
    "\n",
    "The function <strong><code>SciDrive.directoryList(path)</code></strong> lists the contents of a directory (specified by the <em>path</em> parameter) in your SciDrive.\n",
    "\n",
    "The function <strong><code>SciDrive.createContainer(path)</code></strong> creates a new directory with name specified by the <em>path</em> parameter. (Note that the term \"container\" here refers to a directory in SciDrive, not to a container in SciServer Compute.)\n",
    "\n",
    "### Example\n",
    "\n",
    "The example in the Code cell below lists the contents your home (top-level) directory, creates a directory whose name you specify in the string variable <code>directoryName</code>, then lists the contents again so you can see that the new directory has been created. Be sure that the name you specify does not already exist."
   ]
  },
  {
   "cell_type": "code",
   "execution_count": null,
   "metadata": {},
   "outputs": [],
   "source": [
    "dirList = SciDrive.directoryList(\"\")\n",
    "pprint(dirList)"
   ]
  },
  {
   "cell_type": "code",
   "execution_count": null,
   "metadata": {},
   "outputs": [],
   "source": [
    "SciDrive_Directory = 'mydir'\n",
    "\n",
    "# List the content and metadata of the top-level directory in your SciDrive.\n",
    "# Returns a Python dictionary, print with good formatting using pprint\n",
    "dirList = SciDrive.directoryList(\"\")\n",
    "pprint(dirList)\n",
    "\n",
    "# Create a new folder (also called a container) in SciDrive. Returns True.\n",
    "# This will work only if the folder does not already exist; otherwise returns an error.\n",
    "\n",
    "responseCreate = SciDrive.createContainer(SciDrive_Directory)   # responseCreate is a dummy variable; returns True on success\n",
    "print(responseCreate)\n",
    "print('New directory created')\n",
    "print('\\n')\n",
    "\n",
    "# List contents of home directory again - you should see the directory you created\n",
    "dirList = SciDrive.directoryList(SciDrive_Directory)\n",
    "pprint(dirList)"
   ]
  },
  {
   "cell_type": "markdown",
   "metadata": {},
   "source": [
    "## Upload a file to your SciDrive\n",
    "\n",
    "The function <strong><code>SciDrive.upload(path, data, localFilePath)</code></strong> uploads data into your SciDrive. The <em>path</em> parameter is required; it specifies the name of the new (remote) file in your SciDrive that will be written, with a path relative to the top-level directory. The contents of the file are specified by the <em>data</em> or <em>localFilePath</em> parameters, which specify either a data string or a filename in the local Compute file system. If both are specified, <em>localFilePath</em> takes priority.\n",
    "\n",
    "The function returns a dictionary of metadata describing the file that you uploaded.\n",
    "\n",
    "### Example\n",
    "\n",
    "The Code cell below creates a string of very simple CSV data, then uploads that data string as a file in your SciDrive. Specify the name of the (remote) file in your SciDrive with the <code>SciDrive_FileName</code> variable. Note the formatting of the CSV file: two columns separated by a comma (<code>,</code>) with a newline character (<code>\\n</code>) between rows and column names in the first row. This example uses the <em>data</em> parameter. A second example in the same Code cell uses the <em>localFilePath</em> parameter; uncomment to run."
   ]
  },
  {
   "cell_type": "code",
   "execution_count": null,
   "metadata": {},
   "outputs": [],
   "source": [
    "#define the name of a new directory to be created in SciDrive:\n",
    "\n",
    "#define the name, path and content of a local file to be created and then uploaded into SciDrive:\n",
    "SciDrive_FileName = \"sharknado.csv\"\n",
    "SciDrive_FilePath = SciDrive_Directory + '/' + SciDrive_FileName\n",
    "\n",
    "SciDrive_FileContent = \"Year, Sharknado movies shown on U.S. television\\n\"\n",
    "SciDrive_FileContent += \"2012, 0\\n\"\n",
    "SciDrive_FileContent += \"2013, 1\\n\"\n",
    "SciDrive_FileContent += \"2014, 1\\n\"\n",
    "SciDrive_FileContent += \"2015, 1\\n\"\n",
    "SciDrive_FileContent += \"2016, 1\\n\"\n",
    "SciDrive_FileContent += \"2017, 1\\n\"\n",
    "\n",
    "# upload a data string to a file in your SciDrive\n",
    "responseUpload = SciDrive.upload(path=SciDrive_FilePath, data=SciDrive_FileContent)\n",
    "\n",
    "\n",
    "# UNCOMMENT this section to see how to upload a local file to SciDrive\n",
    "#local_FileName = 'sharknado.csv'\n",
    "#thisfile = open(local_FileName, 'w')  # to create a new file, use python's open command with write permissions set...\n",
    "#thisfile.write(SciDrive_FileContent)    # then use file.write to write contents\n",
    "#thisfile.close()\n",
    "#print('Local file written')\n",
    "\n",
    "# upload a local file (in this compute container) to your SciDrive\n",
    "#responseUpload = SciDrive.upload(path=SciDrive_FilePath, localFilePath=local_FileName)\n",
    "\n",
    "\n",
    "pprint(responseUpload)"
   ]
  },
  {
   "cell_type": "markdown",
   "metadata": {},
   "source": [
    "## Download a file from your SciDrive\n",
    "\n",
    "Now that you have a file in your SciDrive, you can download that file - or just its contents - using the <strong><code>SciServer.SciDrive.download(path, format, localFilePath)</code></strong> function. \n",
    "\n",
    "The <em>path</em> parameter defines the (remote) file you want to download. The parameter <em>path</em> is optional but recommended to specify the format of the returned file data (the default value is text). If you specify the optional <em>localFilePath</em> parameter, then the function downloads the file, saves it under your specified name in your local filesystem in SciServer Compute, and returns <code>True</code>. If you do not specify localFilePath, the function will return the contents of the file in the format you specify.\n",
    "\n",
    "Options for the <em>format</em> parameter are:\n",
    "<ul>\n",
    "<li><code>text</code> (default): a text string</li>\n",
    "<li><code>StringIO</code>: an object of type <a href=\"https://docs.python.org/3.5/library/io.html#io.StringIO\" target=\"_blank\">io.StringIO</a> containing readable text</li>\n",
    "<li><code>BytesIO</code>: an object of type <a href=\"https://docs.python.org/3.5/library/io.html#io.BytesIO\" target=\"_blank\">io.BytesIO</a> containing binary data</li>\n",
    "<li><code>response</code>: an <a href=\"https://docs.python.org/3.5/library/http.client.html#http.client.HTTPResponse\">HTTP response object</a> of type requests.Response</li>\n",
    "</ul>\n",
    "\n",
    "### Example\n",
    "\n",
    "The example in the Code cell below gets the data file you uploaded in a previous example. It gets the file contents in text format, stores them as a string, and prints the string to the screen. The second example (commented out by default) saves the file to your local Compute filesystem instead."
   ]
  },
  {
   "cell_type": "code",
   "execution_count": null,
   "metadata": {},
   "outputs": [],
   "source": [
    "# Get the contents of the file you saved, and print\n",
    "fileContent = SciDrive.download(path=SciDrive_FilePath, format=\"text\")\n",
    "print(fileContent)\n",
    "\n",
    "# Save file to local filesystem instead - uncomment to run\n",
    "#localfile = 'sharks.csv'\n",
    "#SciDrive.download(path=SciDrive_FilePath, localFilePath=localfile)\n",
    "#print('file written to local Compute filesystem')"
   ]
  },
  {
   "cell_type": "markdown",
   "metadata": {},
   "source": [
    "## Get the public URL for a file\n",
    "\n",
    "Now that you have uploaded a file to your SciDrive, you can log in to your <a href=\"http://www.scidrive.org\" target=\"_blank\">SciDrive</a> to see it. Try looking for the file now. Don't forget to look in the directory whose name you specified as <code>SciDrive_Directory</code> above.\n",
    "\n",
    "Although this approach allows you to get your files directly from your SciDrive, it does not allow you to share files with your colleagues. Fortunately, SciServer Compute offers a simple way to share a link to a single folder within your SciDrive. The function <strong><code>SciDrive.publicUrl(SciDrive_Directory)</code></strong> returns a publicly-accessible URL to the specified folder.\n",
    "\n",
    "### Example\n",
    "\n",
    "The example below creates and prints a public URL for the directory you specified above. Going to that URL returns a tarball of all files in that directory."
   ]
  },
  {
   "cell_type": "code",
   "execution_count": null,
   "metadata": {},
   "outputs": [],
   "source": [
    "# Get the public URL to access the directory content in SciDrive. Going to that URL returns a tarball of all files.\n",
    "\n",
    "url = SciDrive.publicUrl(SciDrive_Directory)\n",
    "print(url)"
   ]
  },
  {
   "cell_type": "markdown",
   "metadata": {},
   "source": [
    "## Delete files and directories\n",
    "\n",
    "Lastly, you can use the <strong><code>SciDrive.delete(path)</code></strong> to delete files and directories in your SciDrive. The <code>path</code> variable can be the name of either a file or directory. Be careful when using this command, because no confirmation is available.\n",
    "\n",
    "Similarly, you can use the command <strong><code>os.remove(path)</code></strong> to remove files from your local filesystem in this Compute container.\n",
    "\n",
    "### Example\n",
    "\n",
    "The example below deletes the directory you created earlier, and all files in the directory."
   ]
  },
  {
   "cell_type": "code",
   "execution_count": null,
   "metadata": {},
   "outputs": [],
   "source": [
    "#delete folder in SciDrive (returns true)\n",
    "\n",
    "responseDelete = SciDrive.delete(SciDrive_Directory)\n",
    "print(responseDelete)"
   ]
  },
  {
   "cell_type": "markdown",
   "metadata": {
    "collapsed": true
   },
   "source": [
    "## Thank you!\n",
    "\n",
    "Thanks for reviewing this SciServer example notebook. You can use this notebook as a template to develop your own notebooks, but please do so in a copy rather than in the original example notebook.\n",
    "As you begin to use any of our SciServer modules in your own notebooks, consult the SciServer scripting documentation at http://www.sciserver.org/docs/sciscript-python/SciServer.html (link opens in a new window).\n",
    "\n",
    "If you have questions, please email the SciServer helpdesk at sciserver-helpdesk@jhu.edu."
   ]
  },
  {
   "cell_type": "code",
   "execution_count": null,
   "metadata": {},
   "outputs": [],
   "source": []
  }
 ],
 "metadata": {
  "kernelspec": {
   "display_name": "Python 3",
   "language": "python",
   "name": "python3"
  },
  "language_info": {
   "codemirror_mode": {
    "name": "ipython",
    "version": 3
   },
   "file_extension": ".py",
   "mimetype": "text/x-python",
   "name": "python",
   "nbconvert_exporter": "python",
   "pygments_lexer": "ipython3",
   "version": "3.6.6"
  }
 },
 "nbformat": 4,
 "nbformat_minor": 1
}
