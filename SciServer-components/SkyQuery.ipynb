{
 "cells": [
  {
   "cell_type": "markdown",
   "metadata": {},
   "source": [
    "# Example notebook: cross-match data with SkyQuery\n",
    "\n",
    "SciServer Compute can talk to other components of SciServer through a series of <em>modules</em>, one for each component. This example notebook shows how to use the <strong><code>SciServer.SkyQuery</code></strong> module to perform sophisticated cross-matches among astronomical datasets.\n",
    "\n",
    "You are welcome (encouraged!) to copy these examples into another folder and modify them to meet your needs. You can use them as a starting point to create your own scripts. Please do not edit this notebook directly, because your edits may be overwritten if changes to the SciServer modules require changes to these example notebooks.\n",
    "\n",
    "To run the example Python scripts in this notebook, click in any of the Code cells below (the ones with the gray backgrounds). Click the play button at the top of the window (just below the menubar) to run the script, or press Shift-Enter. The output of each cell's script will appear directly below the cell."
   ]
  },
  {
   "cell_type": "markdown",
   "metadata": {},
   "source": [
    "## Import modules\n",
    "\n",
    "Like any Python modules, the SciServer modules must be imported before being used. The next code block first imports the SciServer modules you will need for this example notebook, then imports some other required modules. Comments in the code block explain what each module does. To learn how to import other modules, see the Python 3.5 import documentation (https://docs.python.org/3.5/reference/import.html), or the documentation of the module(s) you are trying to import."
   ]
  },
  {
   "cell_type": "code",
   "execution_count": null,
   "metadata": {},
   "outputs": [],
   "source": [
    "from SciServer import SkyQuery\n",
    "print('Imported SciServer modules')     # Work with SkyQuery through Compute\n",
    "\n",
    "from pprint import pprint\n",
    "print('Imported other needed modules')  # print data structures in readable format (https://docs.python.org/3.5/library/pprint.html)"
   ]
  },
  {
   "cell_type": "markdown",
   "metadata": {},
   "source": [
    "## List available datasets\n",
    "\n",
    "The function <strong><code>SkyQuery.listAllDatasets()</code></strong> (takes no parameters) lists all the datasets available to you through SkyQuery.\n",
    "\n",
    "The function returns a list of dictionaries, one for each available dataset. You can cross-match among any of the datasets by using its <code>name</code>."
   ]
  },
  {
   "cell_type": "code",
   "execution_count": null,
   "metadata": {},
   "outputs": [],
   "source": [
    "datasets = SkyQuery.listAllDatasets()\n",
    "pprint(datasets)"
   ]
  },
  {
   "cell_type": "markdown",
   "metadata": {},
   "source": [
    "## List the contents of your MyDB\n",
    "\n",
    "The function <strong><code>SkyQuery.getDatasetInfo(datasetName)</code></strong> returns the contents of a specified database. You can use it to show the contents of any of the databases you found in the last code cell; here, we run in with <code>MyDB</code> to show the contents of your MyDB.\n",
    "\n",
    "The function returns a list of dictionaries, one for table in the specified dataset. Each table has a <strong><code>name</code></strong> by which it can be referred."
   ]
  },
  {
   "cell_type": "code",
   "execution_count": null,
   "metadata": {},
   "outputs": [],
   "source": [
    "info = SkyQuery.getDatasetInfo(\"MyDB\")\n",
    "print(info)\n",
    "print('\\n')\n",
    "\n",
    "tables = SkyQuery.listDatasetTables(\"MyDB\")\n",
    "pprint(tables)"
   ]
  },
  {
   "cell_type": "markdown",
   "metadata": {},
   "source": [
    "## Manage jobs\n",
    "\n",
    "Like CasJobs, SkyQuery manages its requests (both queries and cross-match requests) as <strong>jobs</strong>. You can submit the request using the <strong><code>SkyQuery.SubmitJob(query, queue)</code></strong> function. \n",
    "\n",
    "When you submit a query or a cross-identification request to SkyQuery, it creates a job and assigns a <em>jobID</em> that you can use to check on the status of the query. "
   ]
  },
  {
   "cell_type": "code",
   "execution_count": null,
   "metadata": {},
   "outputs": [],
   "source": [
    "# Define a very simple query\n",
    "SkyQuery_Query = \"select 4.5 as Column1, 5.5 as Column2\"\n",
    "\n",
    "# Submit that simple query as a job to SkyQuery\n",
    "jobId = SkyQuery.submitJob(query=SkyQuery_Query, queue=\"quick\")\n",
    "print('submitted jobId',jobId)"
   ]
  },
  {
   "cell_type": "code",
   "execution_count": null,
   "metadata": {},
   "outputs": [],
   "source": [
    "#get the status of a submitted job using jobDescription(jobId) \n",
    "\n",
    "secondjobID = SkyQuery.submitJob(query=SkyQuery_Query, queue=\"quick\")\n",
    "\n",
    "jobDescription = SkyQuery.getJobStatus(jobId=secondjobID)\n",
    "pprint(jobDescription)"
   ]
  },
  {
   "cell_type": "code",
   "execution_count": null,
   "metadata": {},
   "outputs": [],
   "source": [
    "# Submit a job, wait for it to finish, and then get its status\n",
    "#thirdjobID = SkyQuery.submitJob(query=SkyQuery_Query, queue=\"quick\")\n",
    "##jobDescription = SkyQuery.waitForJob(jobId=thirdjobID, verbose=True)\n",
    "\n",
    "#print('\\n')\n",
    "#print(\"job description:\")"
   ]
  },
  {
   "cell_type": "code",
   "execution_count": null,
   "metadata": {},
   "outputs": [],
   "source": [
    "# Cancel a job that is running, and then get its status to prove it is has been cancelled\n",
    "\n",
    "fourthjobID = SkyQuery.submitJob(query=SkyQuery_Query, queue=\"long\")\n",
    "SkyQuery.cancelJob(fourthjobID)\n",
    "\n",
    "print(\"job status:\")\n",
    "pprint(SkyQuery.getJobStatus(jobId=fourthjobID))"
   ]
  },
  {
   "cell_type": "markdown",
   "metadata": {},
   "source": [
    "### Manage jobs: queues\n",
    "\n",
    "To be fair to all users, SkyQuery uses a system of <strong>queues</strong> to balance its load. That means that queries that finish quickly will get priority over longer queries to minimize wait time &mdash; but that those longer queries will run in the background and will always complete eventually.\n",
    "\n",
    "You can use functions in the SkyQuery module to access information about what queues are available, and how you have interacted with those queues."
   ]
  },
  {
   "cell_type": "code",
   "execution_count": null,
   "metadata": {},
   "outputs": [],
   "source": [
    "# Return a list of all available queues in SkyQuery\n",
    "SkyQuery.listQueues()"
   ]
  },
  {
   "cell_type": "code",
   "execution_count": null,
   "metadata": {},
   "outputs": [],
   "source": [
    "# Get a list of all the jobs you have run in SkyQuery.\n",
    "#  This code cell retruns two dictionaries: one for jobs submitted through the Quick queue...\n",
    "#   and one for jobs submitted through for the Long queue.\n",
    "\n",
    "quickJobsList = SkyQuery.listJobs('quick')\n",
    "longJobsList = SkyQuery.listJobs('long')\n",
    "\n",
    "print('Quick Jobs:')\n",
    "pprint(quickJobsList)\n",
    "\n",
    "print('\\n')\n",
    "print('Long jobs:')\n",
    "pprint(longJobsList)"
   ]
  },
  {
   "cell_type": "markdown",
   "metadata": {},
   "source": [
    "## Upload data to your MyDB\n",
    "\n",
    "One of the most important features of SkyQuery is its ability to cross-match your data with a variety of online big data astronomical catalogs. But to perform such a cross-match, you must first upload your data to your MyDB. This section shows you how to use functions in the SkyQuery module to do that."
   ]
  },
  {
   "cell_type": "code",
   "execution_count": null,
   "metadata": {},
   "outputs": [],
   "source": [
    "#define a very simple CSV file containing data to upload to your MyDB in SkyQuery\n",
    "\n",
    "SkyQuery_TestTableName = \"TestTable_SkyQuery\"\n",
    "SkyQuery_TestTableCSV = u\"Column1,Column2\\n15.5,16.5\\n\"\n",
    "\n",
    "print('Simple CSV file created')"
   ]
  },
  {
   "cell_type": "code",
   "execution_count": null,
   "metadata": {},
   "outputs": [],
   "source": [
    "# Upload your sample CSV file using the function SkyQuery.uploadTable(uploadData, TableName, ...). \n",
    "## The function returns True if the table has been properly uploaded.\n",
    "### NOTE: this works ONLY if the table you specified does not already exist.\n",
    "\n",
    "result = SkyQuery.uploadTable(uploadData=SkyQuery_TestTableCSV, tableName=SkyQuery_TestTableName, datasetName=\"MyDB\", format=\"csv\")\n",
    "print(result)"
   ]
  },
  {
   "cell_type": "code",
   "execution_count": null,
   "metadata": {},
   "outputs": [],
   "source": [
    "# You can also download data from your MyDB using SkyQuery.getTable(tableName, ...)\n",
    "## This command returns a Pandas dataframe.\n",
    "\n",
    "table = SkyQuery.getTable(tableName=SkyQuery_TestTableName, datasetName=\"MyDB\")\n",
    "table"
   ]
  },
  {
   "cell_type": "markdown",
   "metadata": {},
   "source": [
    "## Manage MyDB\n",
    "\n",
    "You can also use various SkyQuery module functions to manage your MyDB. The following code cells give some examples."
   ]
  },
  {
   "cell_type": "code",
   "execution_count": null,
   "metadata": {},
   "outputs": [],
   "source": [
    "#list tables inside dataset\n",
    "\n",
    "tables = SkyQuery.listDatasetTables(\"MyDB\")\n",
    "pprint(tables)"
   ]
  },
  {
   "cell_type": "code",
   "execution_count": null,
   "metadata": {},
   "outputs": [],
   "source": [
    "#get info for a specified table:\n",
    "\n",
    "info = SkyQuery.getTableInfo(tableName=\"webuser.\" + SkyQuery_TestTableName, datasetName=\"MyDB\")\n",
    "pprint(info)"
   ]
  },
  {
   "cell_type": "code",
   "execution_count": null,
   "metadata": {},
   "outputs": [],
   "source": [
    "#get dataset table columns info\n",
    "\n",
    "columns = SkyQuery.listTableColumns(tableName=\"webuser.\" + SkyQuery_TestTableName, datasetName=\"MyDB\")\n",
    "pprint(columns)"
   ]
  },
  {
   "cell_type": "code",
   "execution_count": null,
   "metadata": {},
   "outputs": [],
   "source": [
    "#drop (i.e. delete) table from dataset.\n",
    "\n",
    "result = SkyQuery.dropTable(tableName=SkyQuery_TestTableName, datasetName=\"MyDB\");\n",
    "print(result)"
   ]
  },
  {
   "cell_type": "markdown",
   "metadata": {
    "collapsed": true
   },
   "source": [
    "## Thank you!\n",
    "\n",
    "Thanks for reviewing this SciServer example notebook. You can use this notebook as a template to develop your own notebooks, but please do so in a copy rather than in the original example notebook.\n",
    "\n",
    "As you begin to use any of our SciServer modules in your own notebooks, consult the SciServer scripting documentation at http://www.sciserver.org/docs/sciscript-python/SciServer.html.\n",
    "\n",
    "If you have questions, please email the SciServer helpdesk at sciserver-helpdesk@jhu.edu ."
   ]
  },
  {
   "cell_type": "code",
   "execution_count": null,
   "metadata": {},
   "outputs": [],
   "source": []
  }
 ],
 "metadata": {
  "kernelspec": {
   "display_name": "Python 3",
   "language": "python",
   "name": "python3"
  },
  "language_info": {
   "codemirror_mode": {
    "name": "ipython",
    "version": 3
   },
   "file_extension": ".py",
   "mimetype": "text/x-python",
   "name": "python",
   "nbconvert_exporter": "python",
   "pygments_lexer": "ipython3",
   "version": "3.6.6"
  }
 },
 "nbformat": 4,
 "nbformat_minor": 1
}
