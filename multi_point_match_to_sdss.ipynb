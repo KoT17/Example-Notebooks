{
 "cells": [
  {
   "cell_type": "code",
   "execution_count": null,
   "metadata": {},
   "outputs": [],
   "source": [
    "import SciServer                      # Collection of all SciServer modules\n",
    "from SciServer import CasJobs         # Communicate between SciServer Compute and CasJobs\n",
    "print('Imported SciServer modules')\n",
    "\n",
    "from matplotlib import pyplot as plt  # pyplot: a commonly-used plotting module (https://matplotlib.org/api/pyplot_api.html)\n",
    "from pprint import pprint             # pprint: print data structures in readable format (https://docs.python.org/3.5/library/pprint.html)\n",
    "import pandas\n",
    "import os\n",
    "print('Imported other needed modules')"
   ]
  },
  {
   "cell_type": "code",
   "execution_count": null,
   "metadata": {},
   "outputs": [],
   "source": [
    "os.chdir('/home/idies/workspace/Storage/raddick/persistent/example_notebooks')\n",
    "df = pandas.read_csv('crossapply.csv')\n",
    "thecsv = ''\n",
    "\n",
    "#CasJobs.executeQuery('DROP TABLE crossapply8', context='MyDB')#, format='pandas')\n",
    "#CasJobs.executeQuery('CREATE TABLE crossapply8 (id int, ra float, dec float)', context='MyDB')#, format='pandas')\n",
    "thecsv = 'id, ra, dec\\n'\n",
    "for ix, thisrow in df.iterrows():\n",
    "    thecsv += str(ix)+', '+str(thisrow['ra'])+', '+str(thisrow['dec']) + '\\n'\n",
    "SciServer.CasJobs.uploadCSVDataToTable(thecsv, \"crossapply11\", context='MyDB')\n",
    "#print('ok')\n",
    "\n",
    "##df.to_csv\n",
    "CasJobs.executeQuery('select * from crossapply11')\n",
    "#print(thecsv)"
   ]
  },
  {
   "cell_type": "code",
   "execution_count": null,
   "metadata": {},
   "outputs": [],
   "source": [
    "query = 'SELECT \\n'\n",
    "query += 'm.id, m.ra AS ra1, m.dec AS dec1,\\n' \n",
    "query += 'cast(n.objid as nvarchar(99)) as objid, n.distance\\n,'\n",
    "query += 'o.ra AS ra2, o.dec AS dec2\\n'\n",
    "query += 'FROM MyDB.crossapply11 m\\n'\n",
    "query += 'OUTER APPLY dbo.fGetNearestObjEq( m.ra, m.dec, 0.5) AS n\\n'\n",
    "query += 'LEFT JOIN PhotoObj AS o ON n.objid=o.objid\\n'\n",
    "query += 'ORDER BY m.id'\n",
    "query\n",
    "\n",
    "df = CasJobs.executeQuery(query, context='DR15')\n",
    "#df.loc[:, 'objid'] = df['objid'].astype('str')\n",
    "df = df.set_index('id')\n",
    "df"
   ]
  },
  {
   "cell_type": "code",
   "execution_count": null,
   "metadata": {},
   "outputs": [],
   "source": []
  }
 ],
 "metadata": {
  "kernelspec": {
   "display_name": "Python 3",
   "language": "python",
   "name": "python3"
  },
  "language_info": {
   "codemirror_mode": {
    "name": "ipython",
    "version": 3
   },
   "file_extension": ".py",
   "mimetype": "text/x-python",
   "name": "python",
   "nbconvert_exporter": "python",
   "pygments_lexer": "ipython3",
   "version": "3.6.6"
  }
 },
 "nbformat": 4,
 "nbformat_minor": 2
}
