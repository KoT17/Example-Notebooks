{
 "cells": [
  {
   "cell_type": "markdown",
   "metadata": {},
   "source": [
    "### recount quick start\n",
    "\n",
    "Follows this guide: http://leekgroup.github.io/recount/recount-quickstart.html"
   ]
  },
  {
   "cell_type": "code",
   "execution_count": 1,
   "metadata": {},
   "outputs": [
    {
     "name": "stderr",
     "output_type": "stream",
     "text": [
      "Loading required package: SummarizedExperiment\n",
      "Loading required package: GenomicRanges\n",
      "Loading required package: stats4\n",
      "Loading required package: BiocGenerics\n",
      "Loading required package: parallel\n",
      "\n",
      "Attaching package: 'BiocGenerics'\n",
      "\n",
      "The following objects are masked from 'package:parallel':\n",
      "\n",
      "    clusterApply, clusterApplyLB, clusterCall, clusterEvalQ,\n",
      "    clusterExport, clusterMap, parApply, parCapply, parLapply,\n",
      "    parLapplyLB, parRapply, parSapply, parSapplyLB\n",
      "\n",
      "The following objects are masked from 'package:stats':\n",
      "\n",
      "    IQR, mad, sd, var, xtabs\n",
      "\n",
      "The following objects are masked from 'package:base':\n",
      "\n",
      "    Filter, Find, Map, Position, Reduce, anyDuplicated, append,\n",
      "    as.data.frame, cbind, colMeans, colSums, colnames, do.call,\n",
      "    duplicated, eval, evalq, get, grep, grepl, intersect, is.unsorted,\n",
      "    lapply, lengths, mapply, match, mget, order, paste, pmax, pmax.int,\n",
      "    pmin, pmin.int, rank, rbind, rowMeans, rowSums, rownames, sapply,\n",
      "    setdiff, sort, table, tapply, union, unique, unsplit, which,\n",
      "    which.max, which.min\n",
      "\n",
      "Loading required package: S4Vectors\n",
      "\n",
      "Attaching package: 'S4Vectors'\n",
      "\n",
      "The following object is masked from 'package:base':\n",
      "\n",
      "    expand.grid\n",
      "\n",
      "Loading required package: IRanges\n",
      "Loading required package: GenomeInfoDb\n",
      "Loading required package: Biobase\n",
      "Welcome to Bioconductor\n",
      "\n",
      "    Vignettes contain introductory material; view with\n",
      "    'browseVignettes()'. To cite Bioconductor, see\n",
      "    'citation(\"Biobase\")', and for packages 'citation(\"pkgname\")'.\n",
      "\n",
      "Loading required package: DelayedArray\n",
      "Loading required package: matrixStats\n",
      "\n",
      "Attaching package: 'matrixStats'\n",
      "\n",
      "The following objects are masked from 'package:Biobase':\n",
      "\n",
      "    anyMissing, rowMedians\n",
      "\n",
      "\n",
      "Attaching package: 'DelayedArray'\n",
      "\n",
      "The following objects are masked from 'package:matrixStats':\n",
      "\n",
      "    colMaxs, colMins, colRanges, rowMaxs, rowMins, rowRanges\n",
      "\n",
      "The following object is masked from 'package:base':\n",
      "\n",
      "    apply\n",
      "\n",
      "Setting options('download.file.method.GEOquery'='auto')\n",
      "Setting options('GEOquery.inmemory.gpl'=FALSE)\n"
     ]
    }
   ],
   "source": [
    "## Load libraries\n",
    "library('recount')\n",
    "library('SummarizedExperiment')\n",
    "library('SciServer')"
   ]
  },
  {
   "cell_type": "code",
   "execution_count": 2,
   "metadata": {},
   "outputs": [],
   "source": [
    "## Locally-mounted directory where recount resource resides\n",
    "recount_dir <- '/home/idies/workspace/recount01'"
   ]
  },
  {
   "cell_type": "code",
   "execution_count": 3,
   "metadata": {},
   "outputs": [
    {
     "data": {
      "text/html": [
       "<table>\n",
       "<thead><tr><th></th><th scope=col>number_samples</th><th scope=col>species</th><th scope=col>abstract</th><th scope=col>project</th></tr></thead>\n",
       "<tbody>\n",
       "\t<tr><th scope=row>340</th><td>12                                                                                                                                                                                                                                                                                                                                                                                                                                                                                                                                                                                                                                                                                                                                                                                                                                                                                                                                                                                                                                                                                                                                                                                                                                                                                                                                                                                                                                                                                                                                                                                                                                                                                                                                                                                                                                                                                                                                                                                                </td><td>human                                                                                                                                                                                                                                                                                                                                                                                                                                                                                                                                                                                                                                                                                                                                                                                                                                                                                                                                                                                                                                                                                                                                                                                                                                                                                                                                                                                                                                                                                                                                                                                                                                                                                                                                                                                                                                                                                                                                                                                             </td><td>Summary: K562-shX cells are made in an effort to validate TFBS data and ChIP-seq antibodies in Myers lab (GSE32465). K562 cells are transduced with lentiviral vector having Tet-inducible shRNA targeting a transcription factor gene. Cells with stable integration of shRNA constructs are selected using puromycin in growth media. Doxycycline is added to the growth media to induce the expression of shRNA and a red fluorescent protein marker.  A successful shRNA cell line shows at least a 70% reduction in expression of the target transcription factor as measured by qPCR. For identification, we designated these cell lines as K562-shX, where X is the transcription factor targeted by shRNA and K562 denotes the parent cell line.  For example, K562-shATF3 cells are K562 derived cells selected for stable integration of shRNA targeting the transcription factor ATF3 gene and showed at least a 70% reduction in the expression of ATF3 gene when measured by qPCR. Cells growing without doxycycline (uninduced) are used as a control to measure the change in expression of target transcription factor gene after induction of shRNA using doxycycline. For detailed growth and culturing protocols for these cells please refer to http://hudsonalpha.org/myers-lab/protocols . To identify the potential downstream targets of the candidate transcription factor, analyze the mRNA expression profile of the uninduced and induced K562-shX using RNA-seq.    For data usage terms and conditions, please refer to http://www.genome.gov/27528022 and http://www.genome.gov/Pages/Research/ENCODE/ENCODEDataReleasePolicyFinal2008.pdf    Overall Design: Make K562-shX cells as described in the http://hudsonalpha.org/myers-lab/protocols . Measure the mRNA expression levels in uninduced K562-shX and induced K562-shX cells in two biological replicates using RNA-seq. Identify the potential downstream targets of the candidate transcription factor.</td><td>SRP009615                                                                                                                                                                                                                                                                                                                                                                                                                                                                                                                                                                                                                                                                                                                                                                                                                                                                                                                                                                                                                                                                                                                                                                                                                                                                                                                                                                                                                                                                                                                                                                                                                                                                                                                                                                                                                                                                                                                                                                                         </td></tr>\n",
       "</tbody>\n",
       "</table>\n"
      ],
      "text/latex": [
       "\\begin{tabular}{r|llll}\n",
       "  & number\\_samples & species & abstract & project\\\\\n",
       "\\hline\n",
       "\t340 & 12                                                                                                                                                                                                                                                                                                                                                                                                                                                                                                                                                                                                                                                                                                                                                                                                                                                                                                                                                                                                                                                                                                                                                                                                                                                                                                                                                                                                                                                                                                                                                                                                                                                                                                                                                                                                                                                                                                                                                                                                     & human                                                                                                                                                                                                                                                                                                                                                                                                                                                                                                                                                                                                                                                                                                                                                                                                                                                                                                                                                                                                                                                                                                                                                                                                                                                                                                                                                                                                                                                                                                                                                                                                                                                                                                                                                                                                                                                                                                                                                                                                  & Summary: K562-shX cells are made in an effort to validate TFBS data and ChIP-seq antibodies in Myers lab (GSE32465). K562 cells are transduced with lentiviral vector having Tet-inducible shRNA targeting a transcription factor gene. Cells with stable integration of shRNA constructs are selected using puromycin in growth media. Doxycycline is added to the growth media to induce the expression of shRNA and a red fluorescent protein marker.  A successful shRNA cell line shows at least a 70\\% reduction in expression of the target transcription factor as measured by qPCR. For identification, we designated these cell lines as K562-shX, where X is the transcription factor targeted by shRNA and K562 denotes the parent cell line.  For example, K562-shATF3 cells are K562 derived cells selected for stable integration of shRNA targeting the transcription factor ATF3 gene and showed at least a 70\\% reduction in the expression of ATF3 gene when measured by qPCR. Cells growing without doxycycline (uninduced) are used as a control to measure the change in expression of target transcription factor gene after induction of shRNA using doxycycline. For detailed growth and culturing protocols for these cells please refer to http://hudsonalpha.org/myers-lab/protocols . To identify the potential downstream targets of the candidate transcription factor, analyze the mRNA expression profile of the uninduced and induced K562-shX using RNA-seq.    For data usage terms and conditions, please refer to http://www.genome.gov/27528022 and http://www.genome.gov/Pages/Research/ENCODE/ENCODEDataReleasePolicyFinal2008.pdf    Overall Design: Make K562-shX cells as described in the http://hudsonalpha.org/myers-lab/protocols . Measure the mRNA expression levels in uninduced K562-shX and induced K562-shX cells in two biological replicates using RNA-seq. Identify the potential downstream targets of the candidate transcription factor. & SRP009615                                                                                                                                                                                                                                                                                                                                                                                                                                                                                                                                                                                                                                                                                                                                                                                                                                                                                                                                                                                                                                                                                                                                                                                                                                                                                                                                                                                                                                                                                                                                                                                                                                                                                                                                                                                                                                                                                                                                                                                             \\\\\n",
       "\\end{tabular}\n"
      ],
      "text/markdown": [
       "\n",
       "| <!--/--> | number_samples | species | abstract | project | \n",
       "|---|\n",
       "| 340 | 12                                                                                                                                                                                                                                                                                                                                                                                                                                                                                                                                                                                                                                                                                                                                                                                                                                                                                                                                                                                                                                                                                                                                                                                                                                                                                                                                                                                                                                                                                                                                                                                                                                                                                                                                                                                                                                                                                                                                                                                                 | human                                                                                                                                                                                                                                                                                                                                                                                                                                                                                                                                                                                                                                                                                                                                                                                                                                                                                                                                                                                                                                                                                                                                                                                                                                                                                                                                                                                                                                                                                                                                                                                                                                                                                                                                                                                                                                                                                                                                                                                              | Summary: K562-shX cells are made in an effort to validate TFBS data and ChIP-seq antibodies in Myers lab (GSE32465). K562 cells are transduced with lentiviral vector having Tet-inducible shRNA targeting a transcription factor gene. Cells with stable integration of shRNA constructs are selected using puromycin in growth media. Doxycycline is added to the growth media to induce the expression of shRNA and a red fluorescent protein marker.  A successful shRNA cell line shows at least a 70% reduction in expression of the target transcription factor as measured by qPCR. For identification, we designated these cell lines as K562-shX, where X is the transcription factor targeted by shRNA and K562 denotes the parent cell line.  For example, K562-shATF3 cells are K562 derived cells selected for stable integration of shRNA targeting the transcription factor ATF3 gene and showed at least a 70% reduction in the expression of ATF3 gene when measured by qPCR. Cells growing without doxycycline (uninduced) are used as a control to measure the change in expression of target transcription factor gene after induction of shRNA using doxycycline. For detailed growth and culturing protocols for these cells please refer to http://hudsonalpha.org/myers-lab/protocols . To identify the potential downstream targets of the candidate transcription factor, analyze the mRNA expression profile of the uninduced and induced K562-shX using RNA-seq.    For data usage terms and conditions, please refer to http://www.genome.gov/27528022 and http://www.genome.gov/Pages/Research/ENCODE/ENCODEDataReleasePolicyFinal2008.pdf    Overall Design: Make K562-shX cells as described in the http://hudsonalpha.org/myers-lab/protocols . Measure the mRNA expression levels in uninduced K562-shX and induced K562-shX cells in two biological replicates using RNA-seq. Identify the potential downstream targets of the candidate transcription factor. | SRP009615                                                                                                                                                                                                                                                                                                                                                                                                                                                                                                                                                                                                                                                                                                                                                                                                                                                                                                                                                                                                                                                                                                                                                                                                                                                                                                                                                                                                                                                                                                                                                                                                                                                                                                                                                                                                                                                                                                                                                                                          | \n",
       "\n",
       "\n"
      ],
      "text/plain": [
       "    number_samples species\n",
       "340 12             human  \n",
       "    abstract                                                                                                                                                                                                                                                                                                                                                                                                                                                                                                                                                                                                                                                                                                                                                                                                                                                                                                                                                                                                                                                                                                                                                                                                                                                                                                                                                                                                                                                                                                                                                                                                                                                                                                                                                                                                                                                                                                                                                                                          \n",
       "340 Summary: K562-shX cells are made in an effort to validate TFBS data and ChIP-seq antibodies in Myers lab (GSE32465). K562 cells are transduced with lentiviral vector having Tet-inducible shRNA targeting a transcription factor gene. Cells with stable integration of shRNA constructs are selected using puromycin in growth media. Doxycycline is added to the growth media to induce the expression of shRNA and a red fluorescent protein marker.  A successful shRNA cell line shows at least a 70% reduction in expression of the target transcription factor as measured by qPCR. For identification, we designated these cell lines as K562-shX, where X is the transcription factor targeted by shRNA and K562 denotes the parent cell line.  For example, K562-shATF3 cells are K562 derived cells selected for stable integration of shRNA targeting the transcription factor ATF3 gene and showed at least a 70% reduction in the expression of ATF3 gene when measured by qPCR. Cells growing without doxycycline (uninduced) are used as a control to measure the change in expression of target transcription factor gene after induction of shRNA using doxycycline. For detailed growth and culturing protocols for these cells please refer to http://hudsonalpha.org/myers-lab/protocols . To identify the potential downstream targets of the candidate transcription factor, analyze the mRNA expression profile of the uninduced and induced K562-shX using RNA-seq.    For data usage terms and conditions, please refer to http://www.genome.gov/27528022 and http://www.genome.gov/Pages/Research/ENCODE/ENCODEDataReleasePolicyFinal2008.pdf    Overall Design: Make K562-shX cells as described in the http://hudsonalpha.org/myers-lab/protocols . Measure the mRNA expression levels in uninduced K562-shX and induced K562-shX cells in two biological replicates using RNA-seq. Identify the potential downstream targets of the candidate transcription factor.\n",
       "    project  \n",
       "340 SRP009615"
      ]
     },
     "metadata": {},
     "output_type": "display_data"
    }
   ],
   "source": [
    "## Find a project of interest\n",
    "project_info <- abstract_search('GSE32465')\n",
    "project_info"
   ]
  },
  {
   "cell_type": "code",
   "execution_count": 4,
   "metadata": {},
   "outputs": [],
   "source": [
    "study <- project_info$project  # SRP009615\n",
    "study_dir <- file.path(recount_dir, study)"
   ]
  },
  {
   "cell_type": "code",
   "execution_count": 5,
   "metadata": {},
   "outputs": [],
   "source": [
    "## Load the data"
   ]
  },
  {
   "cell_type": "code",
   "execution_count": 6,
   "metadata": {},
   "outputs": [],
   "source": [
    "load(file.path(study_dir, 'rse_gene.Rdata'))"
   ]
  },
  {
   "cell_type": "code",
   "execution_count": 7,
   "metadata": {},
   "outputs": [],
   "source": [
    "## Find the GEO accession ids\n",
    "# (NCBI connection closed can happen error here sometimes)\n",
    "geoids <- sapply(colData(rse_gene)$run, find_geo)"
   ]
  },
  {
   "cell_type": "code",
   "execution_count": 8,
   "metadata": {},
   "outputs": [],
   "source": [
    "username = Authentication.getKeystoneUserWithToken(Authentication.getToken())$userName"
   ]
  },
  {
   "cell_type": "code",
   "execution_count": 9,
   "metadata": {},
   "outputs": [
    {
     "name": "stderr",
     "output_type": "stream",
     "text": [
      "Using locally cached version of GSM836270 found here:\n",
      "/home/idies/workspace/Temporary/jkim485/scratch/GSM836270.soft \n",
      "Using locally cached version of GSM836271 found here:\n",
      "/home/idies/workspace/Temporary/jkim485/scratch/GSM836271.soft \n",
      "Using locally cached version of GSM836272 found here:\n",
      "/home/idies/workspace/Temporary/jkim485/scratch/GSM836272.soft \n",
      "Using locally cached version of GSM836273 found here:\n",
      "/home/idies/workspace/Temporary/jkim485/scratch/GSM836273.soft \n",
      "Using locally cached version of GSM847561 found here:\n",
      "/home/idies/workspace/Temporary/jkim485/scratch/GSM847561.soft \n",
      "Warning message in `[<-`(`*tmp*`, i, value = IRanges::CharacterList(unlist(unname(result[i])))):\n",
      "\"implicit list embedding of S4 objects is deprecated\"Using locally cached version of GSM847562 found here:\n",
      "/home/idies/workspace/Temporary/jkim485/scratch/GSM847562.soft \n",
      "Warning message in `[<-`(`*tmp*`, i, value = IRanges::CharacterList(unlist(unname(result[i])))):\n",
      "\"implicit list embedding of S4 objects is deprecated\"Using locally cached version of GSM847563 found here:\n",
      "/home/idies/workspace/Temporary/jkim485/scratch/GSM847563.soft \n",
      "Warning message in `[<-`(`*tmp*`, i, value = IRanges::CharacterList(unlist(unname(result[i])))):\n",
      "\"implicit list embedding of S4 objects is deprecated\"Using locally cached version of GSM847564 found here:\n",
      "/home/idies/workspace/Temporary/jkim485/scratch/GSM847564.soft \n",
      "Warning message in `[<-`(`*tmp*`, i, value = IRanges::CharacterList(unlist(unname(result[i])))):\n",
      "\"implicit list embedding of S4 objects is deprecated\"Using locally cached version of GSM847565 found here:\n",
      "/home/idies/workspace/Temporary/jkim485/scratch/GSM847565.soft \n",
      "Warning message in `[<-`(`*tmp*`, i, value = IRanges::CharacterList(unlist(unname(result[i])))):\n",
      "\"implicit list embedding of S4 objects is deprecated\"Using locally cached version of GSM847566 found here:\n",
      "/home/idies/workspace/Temporary/jkim485/scratch/GSM847566.soft \n",
      "Warning message in `[<-`(`*tmp*`, i, value = IRanges::CharacterList(unlist(unname(result[i])))):\n",
      "\"implicit list embedding of S4 objects is deprecated\"Using locally cached version of GSM847567 found here:\n",
      "/home/idies/workspace/Temporary/jkim485/scratch/GSM847567.soft \n",
      "Warning message in `[<-`(`*tmp*`, i, value = IRanges::CharacterList(unlist(unname(result[i])))):\n",
      "\"implicit list embedding of S4 objects is deprecated\"Using locally cached version of GSM847568 found here:\n",
      "/home/idies/workspace/Temporary/jkim485/scratch/GSM847568.soft \n",
      "Warning message in `[<-`(`*tmp*`, i, value = IRanges::CharacterList(unlist(unname(result[i])))):\n",
      "\"implicit list embedding of S4 objects is deprecated\""
     ]
    }
   ],
   "source": [
    "## Get the sammple information from GEO\n",
    "geoinfo <- lapply(geoids, function(x) {\n",
    "    geo_info(x, destdir=paste0('/home/idies/workspace/Temporary/', username, '/scratch')) })"
   ]
  },
  {
   "cell_type": "code",
   "execution_count": 10,
   "metadata": {},
   "outputs": [],
   "source": [
    "## Extract the sample characteristics\n",
    "geochar <- lapply(geoinfo, geo_characteristics)"
   ]
  },
  {
   "cell_type": "code",
   "execution_count": 11,
   "metadata": {},
   "outputs": [],
   "source": [
    "## Note that the information for this study is a little inconsistent, so we\n",
    "## have to fix it.\n",
    "geochar <- do.call(rbind, lapply(geochar, function(x) {\n",
    "    if('cells' %in% colnames(x)) {\n",
    "        colnames(x)[colnames(x) == 'cells'] <- 'cell.line'\n",
    "        return(x)\n",
    "    } else {\n",
    "        return(x)\n",
    "    }\n",
    "}))"
   ]
  },
  {
   "cell_type": "code",
   "execution_count": 12,
   "metadata": {},
   "outputs": [],
   "source": [
    "## We can now define some sample information to use\n",
    "sample_info <- data.frame(\n",
    "    run = colData(rse_gene)$run,\n",
    "    group = sapply(geoinfo, function(x) { ifelse(grepl('uninduced', x$title),\n",
    "        'uninduced', 'induced') }),\n",
    "    gene_target = sapply(geoinfo, function(x) { strsplit(strsplit(x$title,\n",
    "        'targeting ')[[1]][2], ' gene')[[1]][1] })\n",
    ")"
   ]
  },
  {
   "cell_type": "code",
   "execution_count": 13,
   "metadata": {},
   "outputs": [],
   "source": [
    "## Scale counts by taking into account the total coverage per sample\n",
    "rse <- scale_counts(rse_gene)"
   ]
  },
  {
   "cell_type": "code",
   "execution_count": 14,
   "metadata": {},
   "outputs": [],
   "source": [
    "## Add sample information for DE analysis\n",
    "colData(rse)$group <- sample_info$group\n",
    "colData(rse)$gene_target <- sample_info$gene_target"
   ]
  },
  {
   "cell_type": "code",
   "execution_count": 15,
   "metadata": {},
   "outputs": [
    {
     "name": "stderr",
     "output_type": "stream",
     "text": [
      "converting counts to integer mode\n",
      "estimating size factors\n",
      "estimating dispersions\n",
      "gene-wise dispersion estimates: 14 workers\n",
      "mean-dispersion relationship\n",
      "final dispersion estimates, fitting model and testing: 14 workers\n"
     ]
    }
   ],
   "source": [
    "## Perform differential gene expression analysis with DESeq2\n",
    "library('DESeq2')\n",
    "\n",
    "## Specify design and switch to DESeq2 format\n",
    "dds <- DESeqDataSet(rse, ~ gene_target + group)\n",
    "\n",
    "# Workaround for: https://support.bioconductor.org/p/111792/\n",
    "mcols(dds)$symbol <- unlist(lapply(mcols(dds)$symbol, paste, collapse=\",\"))\n",
    "\n",
    "## Perform DE analysis\n",
    "dds <- DESeq(dds, test = 'LRT', reduced = ~ gene_target, fitType = 'local', parallel=T)\n",
    "res <- results(dds)"
   ]
  },
  {
   "cell_type": "code",
   "execution_count": 16,
   "metadata": {},
   "outputs": [
    {
     "data": {
      "text/plain": [
       "log2 fold change (MLE): group uninduced vs induced \n",
       "LRT p-value: '~ gene_target + group' vs '~ gene_target' \n",
       "DataFrame with 58037 rows and 6 columns\n",
       "                      baseMean log2FoldChange     lfcSE      stat     pvalue\n",
       "                     <numeric>      <numeric> <numeric> <numeric>  <numeric>\n",
       "ENSG00000000003.14   12.014354      0.7562448 0.5427437  1.797677 0.17999355\n",
       "ENSG00000000005.5     2.577085      1.3085612 1.0041180  1.253870 0.26281455\n",
       "ENSG00000000419.12 2010.759283     -0.3427947 0.1365863  6.270242 0.01227824\n",
       "ENSG00000000457.13  744.840210     -0.2424541 0.1271758  3.628092 0.05681192\n",
       "ENSG00000000460.16 1358.236026     -0.3719585 0.1410730  6.926779 0.00849145\n",
       "...                        ...            ...       ...       ...        ...\n",
       "ENSG00000283695.1    0.2624722     -1.0197790 3.1039716 0.1779536  0.6731378\n",
       "ENSG00000283696.1   15.0206855     -0.1778908 0.4343602 0.1628430  0.6865524\n",
       "ENSG00000283697.1   30.7821042      0.2595221 0.2837579 0.8294314  0.3624370\n",
       "ENSG00000283698.1    0.3944863     -1.0356722 2.9980755 0.1894332  0.6633888\n",
       "ENSG00000283699.1    0.0000000             NA        NA        NA         NA\n",
       "                        padj\n",
       "                   <numeric>\n",
       "ENSG00000000003.14        NA\n",
       "ENSG00000000005.5         NA\n",
       "ENSG00000000419.12 0.1189961\n",
       "ENSG00000000457.13 0.2637898\n",
       "ENSG00000000460.16 0.0976739\n",
       "...                      ...\n",
       "ENSG00000283695.1         NA\n",
       "ENSG00000283696.1  0.8716655\n",
       "ENSG00000283697.1  0.6572737\n",
       "ENSG00000283698.1         NA\n",
       "ENSG00000283699.1         NA"
      ]
     },
     "metadata": {},
     "output_type": "display_data"
    }
   ],
   "source": [
    "res"
   ]
  },
  {
   "cell_type": "code",
   "execution_count": null,
   "metadata": {},
   "outputs": [],
   "source": [
    "## Explore gene-level results\n",
    "plotMA(res, main=\"DESeq2 results for SRP009615\")"
   ]
  }
 ],
 "metadata": {
  "kernelspec": {
   "display_name": "R",
   "language": "R",
   "name": "ir"
  },
  "language_info": {
   "codemirror_mode": "r",
   "file_extension": ".r",
   "mimetype": "text/x-r-source",
   "name": "R",
   "pygments_lexer": "r",
   "version": "3.4.1"
  }
 },
 "nbformat": 4,
 "nbformat_minor": 2
}
